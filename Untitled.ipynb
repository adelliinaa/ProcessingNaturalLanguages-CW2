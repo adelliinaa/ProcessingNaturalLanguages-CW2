{
 "cells": [
  {
   "cell_type": "code",
   "execution_count": 1,
   "metadata": {},
   "outputs": [
    {
     "data": {
      "text/plain": [
       "['John', 'Marry', 'like']"
      ]
     },
     "execution_count": 1,
     "metadata": {},
     "output_type": "execute_result"
    }
   ],
   "source": [
    "# PART A: Processing statements \n",
    "def add(lst,item):\n",
    "    if (item not in lst):\n",
    "        lst.insert(len(lst),item)\n",
    "\n",
    "\n",
    "class Lexicon:\n",
    "    \"\"\"stores known word stems of various part-of-speech categories\"\"\"\n",
    "    # add code here\n",
    "    def __init__ (self):\n",
    "        self.TokenList = []\n",
    "    def add (self, stem, cat):\n",
    "        self.TokenList.append((stem, cat))\n",
    "    def getAll (self, cat):\n",
    "        stems = []\n",
    "        for pair in self.TokenList:\n",
    "            if (pair[1] == cat):\n",
    "                add(stems, pair[0])\n",
    "        return stems\n",
    "lx = Lexicon()\n",
    "lx.add(\"John\", \"P\")\n",
    "lx.add(\"Marry\", \"P\")\n",
    "lx.add(\"like\", \"T\")\n",
    "lx.add(\"like\", \"P\")\n",
    "lx.getAll(\"P\")"
   ]
  },
  {
   "cell_type": "code",
   "execution_count": 4,
   "metadata": {},
   "outputs": [
    {
     "name": "stdout",
     "output_type": "stream",
     "text": [
      "True\n",
      "False\n",
      "True\n"
     ]
    }
   ],
   "source": [
    "class FactBase:\n",
    "    #stores unary and binary relational facts\n",
    "    def __init__ (self):\n",
    "        self.featuresList = []\n",
    "    def addUnary (self, pred, e1):\n",
    "        self.featuresList.append((pred, e1))\n",
    "    def addBinary (self, pred, e1, e2):\n",
    "        self.featuresList.append((pred, e1, e2))\n",
    "    def queryUnary (self, pred, e1):\n",
    "        return (pred, e1) in self.featuresList\n",
    "    def queryBinary (self, pred, e1, e2):\n",
    "        return (pred, e1, e2) in self.featuresList\n",
    "fb = FactBase()\n",
    "fb.addUnary(\"duck\", \"John\")\n",
    "fb.addBinary(\"love\", \"Mary\", \"John\")\n",
    "print(fb.queryUnary(\"duck\", \"John\"))\n",
    "print(fb.queryUnary(\"duck\", \"Adelina\"))\n",
    "print(fb.queryBinary(\"love\", \"Mary\", \"John\"))\n",
    "    "
   ]
  },
  {
   "cell_type": "code",
   "execution_count": 31,
   "metadata": {},
   "outputs": [
    {
     "data": {
      "text/plain": [
       "''"
      ]
     },
     "execution_count": 31,
     "metadata": {},
     "output_type": "execute_result"
    }
   ],
   "source": [
    "import re\n",
    "from nltk.corpus import brown \n",
    "def verb_stem(s):\n",
    "    #extracts the stem from the 3sg form of a verb, or returns empty string\n",
    "    if (re.match(\"\\w*([^(ch)(sh)aeiou])s$\", s)):\n",
    "      #  print(s[:-1])\n",
    "        infinitive = s[:-1]\n",
    "    elif(re.match(\"\\w*([aeiou])ys$\", s)):\n",
    "      #  print(s[:-1])\n",
    "        infinitive = s[:-1]\n",
    "    elif (re.match(\"\\w*([^aeiou])ies$\", s) and len(s) >=5):\n",
    "      #  print(s[:-3] + \"y\")\n",
    "        infinitive = s[:-3] + \"y\"\n",
    "    elif (re.match(\"[^aeiou]ies$\", s)):\n",
    "      #  print(s[:-1])\n",
    "        infinitive = s[:-1]\n",
    "    elif (re.match(\"\\w*([(ch)(sh)(zz)(ss)ox])es$\", s)):\n",
    "      #  print(s[:-2])\n",
    "        infinitive = s[:-2]\n",
    "    elif (re.match(\"\\w*([^s][s])es$\", s) or re.match(\"\\w*([^z][z])es$\", s)):\n",
    "      #  print(s[:-1])\n",
    "        infinitive = s[:-1]\n",
    "    elif (re.match(\"has\", s)):\n",
    "      #  print(\"have\")\n",
    "        infinitive = \"have\"\n",
    "    elif (re.match(\"\\w*([^(ch)(sh)iosxz])es$\", s)):\n",
    "      # print(s[:-1])\n",
    "        infinitive = s[:-1]\n",
    "    else: \n",
    "      # print(\"\")\n",
    "        infinitive = \"\"\n",
    "      #return infinitive\n",
    "\n",
    "    if ((s, 'VBZ') in brown.tagged_words() and (infinitive, 'VB') in brown.tagged_words()):\n",
    "        return infinitive\n",
    "    else:\n",
    "        return ''\n",
    "    \n",
    "verb_stem(\"flys\")"
   ]
  }
 ],
 "metadata": {
  "kernelspec": {
   "display_name": "Python 3",
   "language": "python",
   "name": "python3"
  },
  "language_info": {
   "codemirror_mode": {
    "name": "ipython",
    "version": 3
   },
   "file_extension": ".py",
   "mimetype": "text/x-python",
   "name": "python",
   "nbconvert_exporter": "python",
   "pygments_lexer": "ipython3",
   "version": "3.6.3"
  }
 },
 "nbformat": 4,
 "nbformat_minor": 2
}
