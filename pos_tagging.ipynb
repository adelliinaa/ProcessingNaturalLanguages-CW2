{
 "cells": [
  {
   "cell_type": "code",
   "execution_count": 61,
   "metadata": {},
   "outputs": [
    {
     "name": "stdout",
     "output_type": "stream",
     "text": [
      "['series', 'police', 'species', 'fish', 'headquarters', 'deer', 'trout', 'sheep', 'buffalo', 'multimedia', 'bison', 'cannabis', 'dna', 'salmon', 'swine', 'moose', 'marijuana']\n"
     ]
    },
    {
     "data": {
      "text/plain": [
       "['series',\n",
       " 'police',\n",
       " 'species',\n",
       " 'fish',\n",
       " 'headquarters',\n",
       " 'deer',\n",
       " 'trout',\n",
       " 'sheep',\n",
       " 'buffalo',\n",
       " 'multimedia',\n",
       " 'bison',\n",
       " 'cannabis',\n",
       " 'dna',\n",
       " 'salmon',\n",
       " 'swine',\n",
       " 'moose',\n",
       " 'marijuana']"
      ]
     },
     "execution_count": 61,
     "metadata": {},
     "output_type": "execute_result"
    }
   ],
   "source": [
    "from statements import *\n",
    "#import pandas as pd\n",
    "#x = pd.read_csv('sentences.txt', index_col=0)\n",
    "#print(x)\n",
    "#   ____________________________________________________\n",
    "#  |   springs|NNS on|IN the|DT eastern|NN edge|NN of   |\n",
    "#  |___________________________________________________ |\n",
    "\n",
    "def unchanging_plurals():\n",
    "    unchanging_nouns = []\n",
    "    NNlist = []\n",
    "    NNSlist = []\n",
    "    with open(\"sentences.txt\", \"r\") as f:\n",
    "        for line in f:\n",
    "            for tupple in line.split():\n",
    "                #print(tupple)\n",
    "                (noun, type) = tupple.split(\"|\")\n",
    "                if(type == 'NN' and noun not in NNlist):\n",
    "                    NNlist.append(noun)\n",
    "                if(type == 'NNS' and noun not in NNSlist):\n",
    "                    NNSlist.append(noun)\n",
    "    for noun in NNSlist:\n",
    "        if(noun in NNlist):\n",
    "            unchanging_nouns.append(noun)\n",
    "    return unchanging_nouns \n",
    "\n",
    "#UnchangingPlurals = unchanging_plurals()\n",
    "print(UnchangingPlurals)\n",
    "unchanging_plurals()"
   ]
  },
  {
   "cell_type": "code",
   "execution_count": 62,
   "metadata": {},
   "outputs": [
    {
     "data": {
      "text/plain": [
       "'woman'"
      ]
     },
     "execution_count": 62,
     "metadata": {},
     "output_type": "execute_result"
    }
   ],
   "source": [
    "def noun_stem (s):\n",
    "    #extracts the stem from a plural noun, or returns empty string\n",
    "    if s in UnchangingPlurals:\n",
    "        return s\n",
    "    elif (re.match(\"\\w*(men)$\", s)):\n",
    "        return s[:-2] + \"an\"\n",
    "    elif (re.match(\"\\w*([^(ch)(sh)aeiou])s$\", s)):\n",
    "        infinitive = s[:-1]\n",
    "    elif(re.match(\"\\w*([aeiou])ys$\", s)):\n",
    "        return s[:-1]\n",
    "    elif (re.match(\"\\w*([^aeiou])ies$\", s) and len(s) >=5):\n",
    "        return s[:-3] + \"y\"\n",
    "    elif (re.match(\"[^aeiou]ies$\", s)):\n",
    "        return s[:-1]\n",
    "    elif (re.match(\"\\w*([(ch)(sh)(zz)(ss)ox])es$\", s)):\n",
    "        return s[:-2]\n",
    "    elif (re.match(\"\\w*([^s][s])es$\", s) or re.match(\"\\w*([^z][z])es$\", s)):\n",
    "        return s[:-1]\n",
    "    elif (re.match(\"has\", s)):\n",
    "        return \"have\"\n",
    "    elif (re.match(\"\\w*([^(ch)(sh)iosxz])es$\", s)):\n",
    "        return s[:-1]\n",
    "    else: \n",
    "        return \"\"\n",
    "    \n",
    "noun_stem(\"women\")"
   ]
  },
  {
   "cell_type": "code",
   "execution_count": 66,
   "metadata": {},
   "outputs": [
    {
     "name": "stdout",
     "output_type": "stream",
     "text": [
      "['Np', 'Ns', 'Ip', 'Tp']\n",
      "[]\n",
      "['P']\n"
     ]
    }
   ],
   "source": [
    "function_words_tags = [('a','AR'), ('an','AR'), ('and','AND'),\n",
    "     ('is','BEs'), ('are','BEp'), ('does','DOs'), ('do','DOp'),\n",
    "     ('who','WHO'), ('which','WHICH'), ('Who','WHO'), ('Which','WHICH'), ('?','?')]\n",
    "     # upper or lowercase tolerated at start of question.\n",
    "\n",
    "function_words = [p[0] for p in function_words_tags]\n",
    "\n",
    "\n",
    "def tag_word (lx,wd):\n",
    "    #returns a list of all possible tags for wd relative to lx\"\"\"\n",
    "    lex = []\n",
    "    \n",
    "    for token in lx.getAll(\"P\"):\n",
    "        if wd == token:\n",
    "            lex.append(\"P\")\n",
    "    for token in lx.getAll(\"A\"):\n",
    "        if wd == token:\n",
    "            lex.append(\"A\")\n",
    "    for token in lx.getAll(\"N\"):\n",
    "        if noun_stem(wd) == token:\n",
    "            lex.append(\"Np\")\n",
    "        if wd == token:\n",
    "            lex.append(\"Ns\")\n",
    "    for token in lx.getAll(\"I\"):\n",
    "        if verb_stem(wd) == token:\n",
    "            lex.append('Is')\n",
    "        elif wd == token:\n",
    "            lex.append(\"Ip\")\n",
    "    for token in lx.getAll(\"T\"):\n",
    "        if verb_stem(wd) == token:\n",
    "            lex.append(\"Ts\")\n",
    "        elif wd == token:\n",
    "            lex.append(\"Tp\")\n",
    "\n",
    "    for (token, type) in function_words_tags:\n",
    "            if (wd == token):\n",
    "                lex.append(type)\n",
    "    return lex\n",
    "\n",
    "\n",
    "lx = Lexicon()\n",
    "lx.add(\"John\", \"P\")\n",
    "lx.add(\"fish\", \"N\")\n",
    "lx.add(\"fish\", \"I\")\n",
    "lx.add(\"fish\", \"T\")\n",
    "\n",
    "print(tag_word(lx, \"fish\"))\n",
    "print(tag_word(lx, \"jsfksjkf\"))\n",
    "print(tag_word(lx, \"John\"))"
   ]
  },
  {
   "cell_type": "code",
   "execution_count": null,
   "metadata": {
    "collapsed": true
   },
   "outputs": [],
   "source": []
  }
 ],
 "metadata": {
  "kernelspec": {
   "display_name": "Python 3",
   "language": "python",
   "name": "python3"
  },
  "language_info": {
   "codemirror_mode": {
    "name": "ipython",
    "version": 3
   },
   "file_extension": ".py",
   "mimetype": "text/x-python",
   "name": "python",
   "nbconvert_exporter": "python",
   "pygments_lexer": "ipython3",
   "version": "3.6.3"
  }
 },
 "nbformat": 4,
 "nbformat_minor": 2
}
